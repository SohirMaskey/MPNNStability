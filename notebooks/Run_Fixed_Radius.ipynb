{
 "cells": [
  {
   "cell_type": "code",
   "execution_count": 1,
   "id": "45d1518c",
   "metadata": {},
   "outputs": [
    {
     "name": "stderr",
     "output_type": "stream",
     "text": [
      "/home/math/maskey/anaconda3/envs/pyg_cuda102/lib/python3.8/site-packages/torch_geometric/data/storage.py:244: UserWarning: Unable to accurately infer 'num_nodes' from the attribute set '{'edge_index'}'. Please explicitly set 'num_nodes' as an attribute of 'data' to suppress this warning\n",
      "  warnings.warn(\n",
      "09:18:18|TQ-INFO| Initializing torchquad.\n"
     ]
    }
   ],
   "source": [
    "import numpy as np\n",
    "import networkx as nx\n",
    "import torch\n",
    "from torch_geometric.data import Data\n",
    "import time\n",
    "\n",
    "import random\n",
    "from torch_geometric.utils import from_networkx\n",
    "\n",
    "import matplotlib.pyplot as plt\n",
    "\n",
    "from torch_geometric.nn import SAGEConv\n",
    "\n",
    "from torch_geometric.nn import MessagePassing\n",
    "from torch_geometric.utils import add_self_loops, degree\n",
    "import torch.nn.functional as F\n",
    "\n",
    "import sys\n",
    "sys.path.insert(1,'../src')\n",
    "from DataLoader_rad import RGGDataset_rad\n",
    "from TwoLayerGraphSage import GCN, cGCN\n",
    "\n",
    "import os.path as osp\n",
    "\n",
    "from torch_geometric.data import Dataset, download_url\n",
    "\n",
    "import os"
   ]
  },
  {
   "cell_type": "code",
   "execution_count": 2,
   "id": "edbfa847",
   "metadata": {},
   "outputs": [],
   "source": [
    "DL = RGGDataset_rad(root = '//home/groups/ai/maskey/input_rad')\n",
    "\n",
    "dataset = DL.get(5,50)"
   ]
  },
  {
   "cell_type": "code",
   "execution_count": 3,
   "id": "aae81b32",
   "metadata": {},
   "outputs": [],
   "source": [
    "positions = torch.load('//home/groups/ai/maskey/input_rad/raw/positions_1000_10.pt')"
   ]
  },
  {
   "cell_type": "code",
   "execution_count": 4,
   "id": "84ca0bb5",
   "metadata": {},
   "outputs": [
    {
     "data": {
      "text/plain": [
       "<All keys matched successfully>"
      ]
     },
     "execution_count": 4,
     "metadata": {},
     "output_type": "execute_result"
    }
   ],
   "source": [
    "model = GCN()\n",
    "model.load_state_dict(torch.load( '../models/GCNTwoLayersGraphSage'))\n",
    "\n",
    "cGCNN = cGCN()\n",
    "cGCNN.load_state_dict(torch.load( '../models/cGCNTwoLayersGraphSage'))"
   ]
  },
  {
   "cell_type": "markdown",
   "id": "04cc7b1f",
   "metadata": {},
   "source": [
    "radius = 5 #give radius divided by 10"
   ]
  },
  {
   "cell_type": "markdown",
   "id": "7c763c90",
   "metadata": {},
   "source": [
    "L2Errors = []\n",
    "start = time.time()\n",
    "\n",
    "low_pass = lambda x:  (1+(torch.tensor(x[:,0]**2 + x[:,1]**2))).pow_(-1)\n",
    "#low_pass = lambda x:  x[:,0]*x[:,1]"
   ]
  },
  {
   "cell_type": "markdown",
   "id": "1b6eb984",
   "metadata": {},
   "source": [
    "y = torch.rand(1000,1)"
   ]
  },
  {
   "cell_type": "markdown",
   "id": "c80fb4ad",
   "metadata": {},
   "source": [
    "cdata = DL.get(radius,1000)\n",
    "cpos = positions[99]\n",
    "signal = low_pass(cpos[0])\n",
    "signal = torch.reshape(signal,( len(signal),1))\n",
    "cdata.x = signal \n",
    "cdata.x = y "
   ]
  },
  {
   "cell_type": "markdown",
   "id": "5cf0efdf",
   "metadata": {},
   "source": [
    "output = model.forward(cdata)"
   ]
  },
  {
   "cell_type": "markdown",
   "id": "b3f4b2c7",
   "metadata": {},
   "source": [
    "for i in range(10, 1010, 10):\n",
    "    data = DL.get(radius, i) \n",
    "    pos = positions[int((i-10)/10)]\n",
    "    signal = cdata.x[pos[1].type(torch.LongTensor)]\n",
    "    signal = torch.reshape(signal,( len(signal),1))\n",
    "    data.x = signal\n",
    "    \n",
    "    nodeErrors = output[pos[1].type(torch.LongTensor)] - model.forward(data)\n",
    "    L2Error = torch.sqrt(1/len(nodeErrors)*torch.sum(torch.pow(nodeErrors,2)))\n",
    "    L2Errors.append(L2Error)"
   ]
  },
  {
   "cell_type": "markdown",
   "id": "868d0eb1",
   "metadata": {},
   "source": [
    "err = [x.detach().numpy() for x in L2Errors]"
   ]
  },
  {
   "cell_type": "code",
   "execution_count": 5,
   "id": "95e6471a",
   "metadata": {},
   "outputs": [],
   "source": [
    "def error_fct(radius, signal):\n",
    "    L2Errors = []\n",
    "\n",
    "    cdata = DL.get(radius,1000)\n",
    "    cpos = positions[99]\n",
    "\n",
    "    cdata.x = signal \n",
    "\n",
    "    output = model.forward(cdata)\n",
    "\n",
    "    for i in range(10, 1010, 10):\n",
    "        data = DL.get(radius, i) \n",
    "        pos = positions[int((i-10)/10)]\n",
    "        signal = cdata.x[pos[1].type(torch.LongTensor)]\n",
    "        signal = torch.reshape(signal,( len(signal),1))\n",
    "        data.x = signal\n",
    "\n",
    "        nodeErrors = output[pos[1].type(torch.LongTensor)] - model.forward(data)\n",
    "        L2Error = torch.sqrt(1/len(nodeErrors)*torch.sum(torch.pow(nodeErrors,2)))\n",
    "        L2Errors.append(L2Error)\n",
    "\n",
    "    err = [x.detach().numpy() for x in L2Errors]\n",
    "\n",
    "    return err"
   ]
  },
  {
   "cell_type": "markdown",
   "id": "c1a48f82",
   "metadata": {},
   "source": [
    "xAxis = list(range(10,1000,10))\n",
    "fig = plt.figure()\n",
    "plt.xlabel('Nodes')\n",
    "plt.ylabel('l2error')\n",
    "txt=\"radius: \" + str((radius)/10)\n",
    "plt.figtext(0.5, 1, txt, wrap=True, horizontalalignment='center', fontsize=15)\n",
    "plt.plot(xAxis,err[:-1])\n",
    "#fig.savefig('../output/l2Error' + str(1002) + 'Nodes.png', dpi=fig.dpi)"
   ]
  },
  {
   "cell_type": "markdown",
   "id": "52ca329d",
   "metadata": {},
   "source": [
    "slope, intercept = np.polyfit(np.log(xAxis), np.log(err[:-1]), 1)\n",
    "txt=\"radius: \" + str((radius)/10) + \"  |  slope: \" + str(slope)\n",
    "plt.figtext(0.5, 1, txt, wrap=True, horizontalalignment='center', fontsize=15)\n",
    "plt.loglog(xAxis[:], err[:-1], '--')\n",
    "\n",
    "#fig.savefig('../output/Logl2Error' + str(1002) + 'Nodes.png', dpi=fig.dpi)"
   ]
  },
  {
   "cell_type": "code",
   "execution_count": 8,
   "id": "c0fb0f13",
   "metadata": {},
   "outputs": [],
   "source": [
    "errs = [ ]\n",
    "y = torch.rand(1000,1)\n",
    "for i in [1,5,9]:\n",
    "    errs.append(error_fct(i, y))"
   ]
  },
  {
   "cell_type": "code",
   "execution_count": 9,
   "id": "ebcf60e7",
   "metadata": {},
   "outputs": [
    {
     "data": {
      "text/plain": [
       "<matplotlib.legend.Legend at 0x7f75117bfaf0>"
      ]
     },
     "execution_count": 9,
     "metadata": {},
     "output_type": "execute_result"
    },
    {
     "data": {
      "image/png": "[encoded data removed]",
      "text/plain": [
       "<Figure size 432x288 with 1 Axes>"
      ]
     },
     "metadata": {
      "needs_background": "light"
     },
     "output_type": "display_data"
    }
   ],
   "source": [
    "xAxis = list(range(10,1000,10))\n",
    "fig = plt.figure()\n",
    "plt.xlabel('Nodes')\n",
    "plt.ylabel('l2error')\n",
    "#txt=\"radius: \" + str((radius)/10)\n",
    "#plt.figtext(0.5, 1, txt, wrap=True, horizontalalignment='center', fontsize=15)\n",
    "plt.plot(xAxis,errs[0][:-1],label='0.1')\n",
    "plt.plot(xAxis,errs[1][:-1], label='0.5')\n",
    "plt.plot(xAxis,errs[2][:-1],label='0.9')\n",
    "plt.legend()\n",
    "#fig.savefig('../output/l2Error' + str(1002) + 'Nodes.png', dpi=fig.dpi)"
   ]
  },
  {
   "cell_type": "code",
   "execution_count": 10,
   "id": "ddd19725",
   "metadata": {},
   "outputs": [
    {
     "data": {
      "text/plain": [
       "<matplotlib.legend.Legend at 0x7f7511727280>"
      ]
     },
     "execution_count": 10,
     "metadata": {},
     "output_type": "execute_result"
    },
    {
     "data": {
      "image/png": "[encoded data removed]",
      "text/plain": [
       "<Figure size 432x288 with 1 Axes>"
      ]
     },
     "metadata": {
      "needs_background": "light"
     },
     "output_type": "display_data"
    }
   ],
   "source": [
    "slope0, intercept0 = np.polyfit(np.log(xAxis), np.log(errs[0][:-1]), 1)\n",
    "slope1, intercept1 = np.polyfit(np.log(xAxis), np.log(errs[1][:-1]), 1)\n",
    "slope2, intercept2 = np.polyfit(np.log(xAxis), np.log(errs[2][:-1]), 1)\n",
    "\n",
    "\n",
    "#txt=\"radius: \" + str((radius)/10) + \"  |  slope: \" + str(slope)\n",
    "#plt.figtext(0.5, 1, txt, wrap=True, horizontalalignment='center', fontsize=15)\n",
    "plt.loglog(xAxis[:],errs[0][:-1], '--', label = '0.1 | slope: ' + str(slope0))\n",
    "plt.loglog(xAxis[:],errs[1][:-1], '--', label = '0.5 | slope: ' + str(slope1))           \n",
    "plt.loglog(xAxis[:],errs[2][:-1], '--', label = '0.9 | slope: ' + str(slope2))           \n",
    "plt.legend()\n",
    "\n",
    "#fig.savefig('../output/Logl2Error' + str(1002) + 'Nodes.png', dpi=fig.dpi)"
   ]
  },
  {
   "cell_type": "code",
   "execution_count": null,
   "id": "c9e22cd1",
   "metadata": {},
   "outputs": [],
   "source": [
    "err"
   ]
  }
 ],
 "metadata": {
  "kernelspec": {
   "display_name": "Python 3",
   "language": "python",
   "name": "python3"
  },
  "language_info": {
   "codemirror_mode": {
    "name": "ipython",
    "version": 3
   },
   "file_extension": ".py",
   "mimetype": "text/x-python",
   "name": "python",
   "nbconvert_exporter": "python",
   "pygments_lexer": "ipython3",
   "version": "3.8.12"
  }
 },
 "nbformat": 4,
 "nbformat_minor": 5
}
