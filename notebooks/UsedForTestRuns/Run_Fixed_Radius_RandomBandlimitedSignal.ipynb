{
 "cells": [
  {
   "cell_type": "code",
   "execution_count": 1,
   "id": "45d1518c",
   "metadata": {},
   "outputs": [
    {
     "name": "stderr",
     "output_type": "stream",
     "text": [
      "/home/math/maskey/anaconda3/envs/pyg_cuda102/lib/python3.8/site-packages/torch_geometric/data/storage.py:244: UserWarning: Unable to accurately infer 'num_nodes' from the attribute set '{'edge_index'}'. Please explicitly set 'num_nodes' as an attribute of 'data' to suppress this warning\n",
      "  warnings.warn(\n",
      "08:26:43|TQ-INFO| Initializing torchquad.\n"
     ]
    }
   ],
   "source": [
    "import numpy as np\n",
    "import networkx as nx\n",
    "import torch\n",
    "from torch_geometric.data import Data\n",
    "import time\n",
    "\n",
    "import random\n",
    "from torch_geometric.utils import from_networkx\n",
    "\n",
    "import matplotlib.pyplot as plt\n",
    "\n",
    "from torch_geometric.nn import SAGEConv\n",
    "\n",
    "from torch_geometric.nn import MessagePassing\n",
    "from torch_geometric.utils import add_self_loops, degree\n",
    "import torch.nn.functional as F\n",
    "\n",
    "import sys\n",
    "sys.path.insert(1,'../src')\n",
    "from DataLoader_rad import RGGDataset_rad\n",
    "from TwoLayerGraphSage import GCN, cGCN\n",
    "\n",
    "import os.path as osp\n",
    "\n",
    "from torch_geometric.data import Dataset, download_url\n",
    "\n",
    "import os"
   ]
  },
  {
   "cell_type": "code",
   "execution_count": 2,
   "id": "edbfa847",
   "metadata": {},
   "outputs": [],
   "source": [
    "DL = RGGDataset_rad(root = '//home/groups/ai/maskey/input_rad')\n",
    "\n",
    "dataset = DL.get(5,50)"
   ]
  },
  {
   "cell_type": "code",
   "execution_count": 3,
   "id": "aae81b32",
   "metadata": {},
   "outputs": [],
   "source": [
    "positions = torch.load('//home/groups/ai/maskey/input_rad/raw/positions_1000_10.pt')"
   ]
  },
  {
   "cell_type": "code",
   "execution_count": 4,
   "id": "84ca0bb5",
   "metadata": {},
   "outputs": [
    {
     "data": {
      "text/plain": [
       "<All keys matched successfully>"
      ]
     },
     "execution_count": 4,
     "metadata": {},
     "output_type": "execute_result"
    }
   ],
   "source": [
    "model = GCN()\n",
    "model.load_state_dict(torch.load( '../models/GCNTwoLayersGraphSage'))\n",
    "\n",
    "cGCNN = cGCN()\n",
    "cGCNN.load_state_dict(torch.load( '../models/cGCNTwoLayersGraphSage'))"
   ]
  },
  {
   "cell_type": "code",
   "execution_count": 5,
   "id": "95e6471a",
   "metadata": {},
   "outputs": [],
   "source": [
    "def error_fct(radius, signal):\n",
    "    L2Errors = []\n",
    "\n",
    "    cdata = DL.get(radius,1000)\n",
    "    cpos = positions[99]\n",
    "\n",
    "    cdata.x = signal \n",
    "\n",
    "    output = model.forward(cdata)\n",
    "\n",
    "    for i in range(10, 1010, 10):\n",
    "        data = DL.get(radius, i) \n",
    "        pos = positions[int((i-10)/10)]\n",
    "        signal = cdata.x[pos[1].type(torch.LongTensor)]\n",
    "        signal = torch.reshape(signal,( len(signal),1))\n",
    "        data.x = signal\n",
    "\n",
    "        nodeErrors = output[pos[1].type(torch.LongTensor)] - model.forward(data)\n",
    "        L2Error = torch.sqrt(1/len(nodeErrors)*torch.sum(torch.pow(nodeErrors,2)))\n",
    "        L2Errors.append(L2Error)\n",
    "\n",
    "    err = [x.detach().numpy() for x in L2Errors]\n",
    "\n",
    "    return err"
   ]
  },
  {
   "cell_type": "code",
   "execution_count": 6,
   "id": "9673f3ab",
   "metadata": {},
   "outputs": [],
   "source": [
    "support = torch.randn(250, 250, dtype=torch.complex64) #we create the support of the signal in Fourier domain\n",
    "square = torch.zeros(1000,1000,dtype = torch.complex64)\n",
    "square[:250,:250] = support\n",
    "ifft2 = torch.fft.ifft2(square) #now we have the signal in time domain \n",
    "ifft2_real = ifft2.real"
   ]
  },
  {
   "cell_type": "code",
   "execution_count": 7,
   "id": "9634136d",
   "metadata": {},
   "outputs": [],
   "source": [
    "def fct_eval(tensor): \n",
    "    \"\"\"\n",
    "    For evaluating the signal we got above in a vector in [0,1]^2\n",
    "    \"\"\"\n",
    "    \n",
    "    i = tensor[0][:,0]*1000-1\n",
    "    i = i.type(torch.LongTensor)\n",
    "    j = tensor[0][:,1]*1000-1\n",
    "    j = j.type(torch.LongTensor)\n",
    "    return ifft2_real[i,j]"
   ]
  },
  {
   "cell_type": "code",
   "execution_count": 8,
   "id": "7f008dbe",
   "metadata": {},
   "outputs": [],
   "source": [
    "signal = fct_eval(positions[99]).reshape(1000,1) #evaluation in all vectors we sampled"
   ]
  },
  {
   "cell_type": "code",
   "execution_count": 9,
   "id": "c0fb0f13",
   "metadata": {},
   "outputs": [],
   "source": [
    "errs = [ ]\n",
    "for i in [1,5,9]:\n",
    "    errs.append(error_fct(i, signal))"
   ]
  },
  {
   "cell_type": "code",
   "execution_count": 10,
   "id": "ebcf60e7",
   "metadata": {},
   "outputs": [
    {
     "data": {
      "text/plain": [
       "<matplotlib.legend.Legend at 0x7f1803336130>"
      ]
     },
     "execution_count": 10,
     "metadata": {},
     "output_type": "execute_result"
    },
    {
     "data": {
      "image/png": "[encoded data removed]",
      "text/plain": [
       "<Figure size 432x288 with 1 Axes>"
      ]
     },
     "metadata": {
      "needs_background": "light"
     },
     "output_type": "display_data"
    }
   ],
   "source": [
    "xAxis = list(range(10,1000,10))\n",
    "fig = plt.figure()\n",
    "plt.xlabel('Nodes')\n",
    "plt.ylabel('l2error')\n",
    "#txt=\"radius: \" + str((radius)/10)\n",
    "#plt.figtext(0.5, 1, txt, wrap=True, horizontalalignment='center', fontsize=15)\n",
    "plt.plot(xAxis,errs[0][:-1],label='0.1')\n",
    "plt.plot(xAxis,errs[1][:-1], label='0.5')\n",
    "plt.plot(xAxis,errs[2][:-1],label='0.9')\n",
    "plt.legend()\n",
    "#fig.savefig('../output/l2Error' + str(1002) + 'Nodes.png', dpi=fig.dpi)"
   ]
  },
  {
   "cell_type": "code",
   "execution_count": 11,
   "id": "ddd19725",
   "metadata": {},
   "outputs": [
    {
     "data": {
      "text/plain": [
       "<matplotlib.legend.Legend at 0x7f180228e700>"
      ]
     },
     "execution_count": 11,
     "metadata": {},
     "output_type": "execute_result"
    },
    {
     "data": {
      "image/png": "[encoded data removed]",
      "text/plain": [
       "<Figure size 432x288 with 1 Axes>"
      ]
     },
     "metadata": {
      "needs_background": "light"
     },
     "output_type": "display_data"
    }
   ],
   "source": [
    "slope0, intercept0 = np.polyfit(np.log(xAxis), np.log(errs[0][:-1]), 1)\n",
    "slope1, intercept1 = np.polyfit(np.log(xAxis), np.log(errs[1][:-1]), 1)\n",
    "slope2, intercept2 = np.polyfit(np.log(xAxis), np.log(errs[2][:-1]), 1)\n",
    "\n",
    "\n",
    "#txt=\"radius: \" + str((radius)/10) + \"  |  slope: \" + str(slope)\n",
    "#plt.figtext(0.5, 1, txt, wrap=True, horizontalalignment='center', fontsize=15)\n",
    "plt.loglog(xAxis[:],errs[0][:-1], '--', label = '0.1 | slope: ' + str(slope0))\n",
    "plt.loglog(xAxis[:],errs[1][:-1], '--', label = '0.5 | slope: ' + str(slope1))           \n",
    "plt.loglog(xAxis[:],errs[2][:-1], '--', label = '0.9 | slope: ' + str(slope2))           \n",
    "plt.legend()\n",
    "\n",
    "#fig.savefig('../output/Logl2Error' + str(1002) + 'Nodes.png', dpi=fig.dpi)"
   ]
  },
  {
   "cell_type": "code",
   "execution_count": null,
   "id": "d6fd62fb",
   "metadata": {},
   "outputs": [],
   "source": []
  }
 ],
 "metadata": {
  "kernelspec": {
   "display_name": "Python 3",
   "language": "python",
   "name": "python3"
  },
  "language_info": {
   "codemirror_mode": {
    "name": "ipython",
    "version": 3
   },
   "file_extension": ".py",
   "mimetype": "text/x-python",
   "name": "python",
   "nbconvert_exporter": "python",
   "pygments_lexer": "ipython3",
   "version": "3.8.12"
  }
 },
 "nbformat": 4,
 "nbformat_minor": 5
}
