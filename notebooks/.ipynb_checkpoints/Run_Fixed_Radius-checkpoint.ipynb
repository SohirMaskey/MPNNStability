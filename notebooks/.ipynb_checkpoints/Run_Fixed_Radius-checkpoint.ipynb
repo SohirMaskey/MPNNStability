{
 "cells": [
  {
   "cell_type": "code",
   "execution_count": 1,
   "id": "45d1518c",
   "metadata": {},
   "outputs": [
    {
     "name": "stderr",
     "output_type": "stream",
     "text": [
      "/home/math/maskey/anaconda3/envs/pyg_cuda102/lib/python3.8/site-packages/torch_geometric/data/storage.py:244: UserWarning: Unable to accurately infer 'num_nodes' from the attribute set '{'edge_index'}'. Please explicitly set 'num_nodes' as an attribute of 'data' to suppress this warning\n",
      "  warnings.warn(\n",
      "11:04:29|TQ-INFO| Initializing torchquad.\n"
     ]
    }
   ],
   "source": [
    "import numpy as np\n",
    "import networkx as nx\n",
    "import torch\n",
    "from torch_geometric.data import Data\n",
    "import time\n",
    "\n",
    "import random\n",
    "from torch_geometric.utils import from_networkx\n",
    "\n",
    "import matplotlib.pyplot as plt\n",
    "\n",
    "from torch_geometric.nn import SAGEConv\n",
    "\n",
    "from torch_geometric.nn import MessagePassing\n",
    "from torch_geometric.utils import add_self_loops, degree\n",
    "import torch.nn.functional as F\n",
    "\n",
    "import sys\n",
    "sys.path.insert(1,'../src')\n",
    "from DataLoader_rad import RGGDataset_rad\n",
    "from TwoLayerGraphSage import GCN, cGCN\n",
    "\n",
    "import os.path as osp\n",
    "\n",
    "from torch_geometric.data import Dataset, download_url\n",
    "\n",
    "import os"
   ]
  },
  {
   "cell_type": "code",
   "execution_count": 2,
   "id": "edbfa847",
   "metadata": {},
   "outputs": [],
   "source": [
    "DL = RGGDataset_rad(root = '//home/groups/ai/maskey/input_rad')\n",
    "\n",
    "dataset = DL.get(5,50)"
   ]
  },
  {
   "cell_type": "code",
   "execution_count": 3,
   "id": "aae81b32",
   "metadata": {},
   "outputs": [],
   "source": [
    "positions = torch.load('//home/groups/ai/maskey/input_rad/raw/positions_1000_10.pt')"
   ]
  },
  {
   "cell_type": "code",
   "execution_count": 4,
   "id": "84ca0bb5",
   "metadata": {},
   "outputs": [
    {
     "data": {
      "text/plain": [
       "<All keys matched successfully>"
      ]
     },
     "execution_count": 4,
     "metadata": {},
     "output_type": "execute_result"
    }
   ],
   "source": [
    "model = GCN()\n",
    "model.load_state_dict(torch.load( '../models/GCNTwoLayersGraphSage'))\n",
    "\n",
    "cGCNN = cGCN()\n",
    "cGCNN.load_state_dict(torch.load( '../models/cGCNTwoLayersGraphSage'))"
   ]
  },
  {
   "cell_type": "markdown",
   "id": "04cc7b1f",
   "metadata": {},
   "source": [
    "radius = 5 #give radius divided by 10"
   ]
  },
  {
   "cell_type": "code",
   "execution_count": null,
   "id": "2a7262f5",
   "metadata": {},
   "outputs": [],
   "source": [
    "L2Errors = []\n",
    "start = time.time()\n",
    "\n",
    "low_pass = lambda x:  (1+(torch.tensor(x[:,0]**2 + x[:,1]**2))).pow_(-1)\n",
    "#low_pass = lambda x:  x[:,0]*x[:,1]"
   ]
  },
  {
   "cell_type": "markdown",
   "id": "1b6eb984",
   "metadata": {},
   "source": [
    "y = torch.rand(1000,1)"
   ]
  },
  {
   "cell_type": "code",
   "execution_count": null,
   "id": "5cfa9e47",
   "metadata": {},
   "outputs": [],
   "source": [
    "cdata = DL.get(1,1000)\n",
    "cpos = positions[99]\n",
    "signal = low_pass(cpos[0])\n",
    "signal = torch.reshape(signal,( len(signal),1))\n",
    "cdata.x = signal \n",
    "#cdata.x = y "
   ]
  },
  {
   "cell_type": "code",
   "execution_count": null,
   "id": "f4ebf2cb",
   "metadata": {},
   "outputs": [],
   "source": [
    "signal"
   ]
  },
  {
   "cell_type": "markdown",
   "id": "5cf0efdf",
   "metadata": {},
   "source": [
    "output = model.forward(cdata)"
   ]
  },
  {
   "cell_type": "markdown",
   "id": "b3f4b2c7",
   "metadata": {},
   "source": [
    "for i in range(10, 1010, 10):\n",
    "    data = DL.get(radius, i) \n",
    "    pos = positions[int((i-10)/10)]\n",
    "    signal = cdata.x[pos[1].type(torch.LongTensor)]\n",
    "    signal = torch.reshape(signal,( len(signal),1))\n",
    "    data.x = signal\n",
    "    \n",
    "    nodeErrors = output[pos[1].type(torch.LongTensor)] - model.forward(data)\n",
    "    L2Error = torch.sqrt(1/len(nodeErrors)*torch.sum(torch.pow(nodeErrors,2)))\n",
    "    L2Errors.append(L2Error)"
   ]
  },
  {
   "cell_type": "markdown",
   "id": "868d0eb1",
   "metadata": {},
   "source": [
    "err = [x.detach().numpy() for x in L2Errors]"
   ]
  },
  {
   "cell_type": "code",
   "execution_count": 5,
   "id": "95e6471a",
   "metadata": {},
   "outputs": [],
   "source": [
    "def error_fct(radius, signal):\n",
    "    L2Errors = []\n",
    "\n",
    "    cdata = DL.get(radius,1000)\n",
    "    cpos = positions[99]\n",
    "\n",
    "    cdata.x = signal \n",
    "\n",
    "    output = model.forward(cdata)\n",
    "\n",
    "    for i in range(10, 1010, 10):\n",
    "        data = DL.get(radius, i) \n",
    "        pos = positions[int((i-10)/10)]\n",
    "        signal = cdata.x[pos[1].type(torch.LongTensor)]\n",
    "        signal = torch.reshape(signal,( len(signal),1))\n",
    "        data.x = signal\n",
    "\n",
    "        nodeErrors = output[pos[1].type(torch.LongTensor)] - model.forward(data)\n",
    "        L2Error = torch.sqrt(1/len(nodeErrors)*torch.sum(torch.pow(nodeErrors,2)))\n",
    "        L2Errors.append(L2Error)\n",
    "\n",
    "    err = [x.detach().numpy() for x in L2Errors]\n",
    "\n",
    "    return err"
   ]
  },
  {
   "cell_type": "code",
   "execution_count": 6,
   "id": "8676a3ff",
   "metadata": {},
   "outputs": [],
   "source": [
    "x = torch.rand(250, 250, dtype=torch.complex64)\n",
    "xx = torch.zeros(1000,1000,dtype = torch.complex64)\n",
    "xx[:250,:250] = x\n",
    "ifft2 = torch.fft.ifft2(xx)\n",
    "ifft2_real = ifft2.real"
   ]
  },
  {
   "cell_type": "code",
   "execution_count": 7,
   "id": "106d2c72",
   "metadata": {},
   "outputs": [],
   "source": [
    "def fct_eval(tensor):\n",
    "    i = tensor[0][:,0]*100-1\n",
    "    i = i.type(torch.LongTensor)\n",
    "    print(i)\n",
    "    j = tensor[0][:,1]*100-1\n",
    "    j = j.type(torch.LongTensor)\n",
    "    print(j)\n",
    "    return ifft2_real[i,j]"
   ]
  },
  {
   "cell_type": "code",
   "execution_count": 14,
   "id": "6b83b090",
   "metadata": {},
   "outputs": [
    {
     "name": "stdout",
     "output_type": "stream",
     "text": [
      "tensor([31, 69, 69, 27, 45, 92, 38, 47, 90, 93, 26, 53,  0, 67, 18, 41, 28, 50,\n",
      "        70, 69, 89, 91, 27, 30, 44,  0, 91, 79, 49, 62,  7, 12, 27, 98, 91, 57,\n",
      "        98, 44, 92, 35, 56, 77, 45, 58, 42, 97, 56, 54, 91, 79, 10, 88, 66, 77,\n",
      "        19,  2, 96, 22, 49, 53, 66, 45, 80, 44, 90, 88, 21, 20, 67, 72, 34, 98,\n",
      "        70, 52, 70, 19, 67, 48, 56, 45, 16, 18, 95, 54, 22, 19,  6, 61, 82, 24,\n",
      "        72, 37, 33, 70, 18, 87, 15, 21,  5, 78,  1, 18, 71, 62, 58, 76, 45, 90,\n",
      "         9, 81, 93, 69, 80, 67, 55, 81,  8, 41, 36, 49, 73, 91, 38, 97, 79, 10,\n",
      "        58, 94,  0, 53, 91, 40, 86, 56, 12, 93, 19, 64, 70, 58, 45, 79, 29, 28,\n",
      "        44, 61, 32, 85, 29, 60, 29, 75, 83, 49,  0, 18, 98, 92, 10, 39, 90, 82,\n",
      "        29, 35, 12, 55, 86, 12, 21, 97, 39, 82, 22, 17, 24, 77, 39, 80, 98, 74,\n",
      "        39, 16, 38, 24, 69, 67, 19, 76, 24, 84, 56, 83, 33, 46, 32, 11,  0, 57,\n",
      "        82,  6, 14,  9, 67, 47, 49, 14, 35, 14,  3,  0, 51, 26, 83, 67,  2,  7,\n",
      "        52, 89,  2, 51,  3, 83, 55, 97, 85, 17, 11, 57, 91, 47, 44, 54, 50, 52,\n",
      "        19, 46, 75, 97, 89, 32,  0, 28,  6, 42, 72, 57, 67, 65, 51, 84, 88, 15,\n",
      "        66, 78, 17, 85, 42, 77, 90, 40, 46, 38,  8, 97, 59, 43,  0, 52,  2, 93,\n",
      "        58, 53, 68, 85,  5, 47, 61, 34, 54,  4, 76, 48, 46,  0, 71, 91, 36, 23,\n",
      "        37, 11, 93, 19, 11, 82, 50, 14, 81, 54, 97, 75, 37, 15, 94, 66, 69, 74,\n",
      "        54, 93, 59, 16, 48, 76, 52, 19, 33, 78,  0,  6, 62, 22, 80, 65,  8, 34,\n",
      "        42, 26, 39, 33,  0, 33, 79, 72, 60, 87, 23,  1, 53,  3, 82, 34, 40, 92,\n",
      "        12, 28, 74, 71, 86, 43, 22, 49, 60,  4, 45, 10, 96, 84, 50, 70, 94, 93,\n",
      "        34, 90, 68, 19, 56, 32, 30, 69, 69, 63, 58, 78,  9, 53,  8,  7, 36, 43,\n",
      "        40, 72, 14, 47, 61, 18, 10, 31, 42, 42,  9, 57, 79,  1, 10, 47, 75, 67,\n",
      "         3, 87, 52, 66, 51, 35, 57, 54, 28, 73, 26,  7, 64, 72,  6, 26, 28, 20,\n",
      "         0,  0, 18, 39, 73, 54, 52,  1, 25, 43,  0, 82, 61, 87, 80, 79, 37, 80,\n",
      "        15, 85, 54, 96, 38, 60, 17, 34, 49, 12, 37, 90, 12, 19, 30, 40, 68, 34,\n",
      "        27, 10, 67, 17, 75, 53, 42, 12, 96, 60, 51, 62, 16,  3, 59, 79,  9, 31,\n",
      "        97, 35, 28,  0, 58, 17, 15, 44,  9, 27, 85, 78,  8, 72, 36, 66, 64, 29,\n",
      "        85, 69, 65, 14, 15, 57, 57, 48, 19, 56, 36, 15, 18, 17, 73, 23, 78, 46,\n",
      "         1, 91, 18, 88, 36, 82, 95, 98, 52, 84, 27, 50, 77, 85, 12, 24, 59, 60,\n",
      "        93, 23,  2, 64, 97, 20, 61, 66, 44, 23, 84, 96, 49, 97, 94,  6, 85, 48,\n",
      "        93, 24, 37, 90, 35, 86, 64, 64, 75, 82, 80, 90, 16, 17, 14, 24, 33, 30,\n",
      "        21, 35, 49, 13,  6, 24, 64, 97, 21, 65,  6, 32, 77, 63, 83, 40, 20, 66,\n",
      "         0, 89, 90, 13, 59, 13, 41, 67, 94, 98, 24, 24, 41, 38, 92, 69, 18, 86,\n",
      "        67, 36, 53, 37, 50, 70, 22, 23, 25, 11,  2, 54, 80,  4,  1, 11, 14,  4,\n",
      "        53, 19, 84,  5, 38, 56, 37, 30, 82, 21, 71, 65, 22,  0, 23, 83, 71, 33,\n",
      "        80, 67, 35,  4, 44, 22, 49, 69, 70, 35, 96, 86, 65, 10, 68, 40,  1, 42,\n",
      "        82, 67, 21, 56, 31, 63, 44, 32, 60,  5,  3, 94,  5, 33, 45, 49, 17, 24,\n",
      "        96, 32, 49, 90, 30, 87,  6,  2, 55, 15, 58, 24, 59, 49, 52, 48, 35, 47,\n",
      "        66, 96, 39, 39, 36, 10, 64, 76, 51, 82, 26, 85, 51,  1, 70, 20, 83, 16,\n",
      "        65, 38, 69, 38, 90, 96, 40, 20, 10, 38, 77, 56,  7,  5, 64,  4, 75, 50,\n",
      "        29, 63, 80, 21, 36, 76, 30, 38, 94, 10, 25, 51, 20, 20, 98, 22, 94, 40,\n",
      "         1, 70, 35, 44, 13, 66,  7, 51, 73, 36, 43, 40, 53,  3, 81, 34, 55, 24,\n",
      "        92, 38, 26, 19, 72, 16, 92, 47, 39, 52, 64, 56, 81, 56, 86, 91, 20,  1,\n",
      "        13, 90, 13, 40, 35, 18, 72, 83, 83, 56, 22, 41, 44, 82, 29, 21, 91, 32,\n",
      "        36, 20, 51, 67, 44, 28, 60, 15, 97,  6, 38, 63, 14, 72, 47, 56,  9, 16,\n",
      "        55, 42, 11, 75, 14, 73, 91,  0, 22,  0, 38, 70, 94, 61, 62, 97, 36, 44,\n",
      "        95, 18, 71,  2, 35, 81, 60, 49, 88,  9, 98, 82, 42,  0, 93, 66, 63, 38,\n",
      "        55, 57, 67,  2, 41, 58, 12, 27, 86, 46, 28, 50, 18, 59, 39, 65, 49, 83,\n",
      "        61, 45, 83, 58, 52, 44, 27, 10, 28, 29, 77, 58, 20, 34, 16, 56, 71, 42,\n",
      "        68, 34, 70, 51, 15, 68, 19, 70, 93, 44, 21,  2, 46, 61, 85, 71, 10, 32,\n",
      "         9, 80, 75, 91, 65, 37, 42, 86, 67, 56, 82, 93, 93, 32, 55, 54, 33, 82,\n",
      "        36,  6, 83, 60, 38,  7, 78, 27, 64, 41, 87, 39, 31, 19, 65, 79, 81, 82,\n",
      "        14, 14, 41, 34, 16, 68, 88, 93, 51, 71, 64, 37, 29, 36,  1, 54,  9, 29,\n",
      "        22, 71, 88, 20, 31, 20, 70, 54, 10, 14, 23, 73, 80, 79, 29, 36,  9, 32,\n",
      "        69, 77, 44, 85, 64, 91, 20, 72, 31, 60, 60, 80, 67, 68, 48, 20, 58, 24,\n",
      "        38, 72, 15, 45, 35, 23, 91, 95, 60, 24])\n",
      "tensor([76, 33,  4, 26, 22, 84, 55, 39, 68, 82, 11, 59, 40, 61, 28, 66, 38,  6,\n",
      "        37, 11, 91,  6, 38, 37, 74, 79, 77, 90, 80, 53,  6, 96, 70, 97, 17, 33,\n",
      "        70,  5, 21, 92, 34, 68, 89, 88, 60, 41, 19, 22, 81, 74,  1, 25, 29, 95,\n",
      "        39, 71, 35, 10, 42, 47, 76, 67, 16, 44, 59, 78, 55, 48,  5, 64,  3, 65,\n",
      "        49, 77, 91, 40,  1, 21,  0, 77, 18, 66, 59,  4, 37, 87, 37, 53, 42, 69,\n",
      "        50, 84, 57, 33,  3, 62, 58, 47, 42, 31, 63,  2, 93, 96, 70,  5, 21, 84,\n",
      "         0, 95, 16, 44,  4, 97, 56, 20, 80, 24, 82,  3, 30, 14, 14, 95, 53, 61,\n",
      "        27, 20, 19, 37, 26, 86, 62, 84, 26, 76, 50, 50, 55, 10, 44, 43,  3,  9,\n",
      "        10, 21, 70, 65, 59, 79, 91, 15, 56, 34, 41, 16, 22, 62, 20, 64, 31, 76,\n",
      "        57, 43, 67, 91, 36, 88, 55, 31, 91, 29, 19, 97, 30, 75, 75, 49, 27, 56,\n",
      "        52, 71, 32, 86, 48, 15, 79, 61, 49, 46, 43, 43, 73, 70, 42, 74, 92, 83,\n",
      "         6, 15, 81, 82, 29, 76, 79, 47, 36, 53, 53,  5, 52, 79, 75, 58, 77,  8,\n",
      "         7, 86, 31, 86,  5, 70, 40, 41, 15, 60, 79, 13, 66, 71, 53, 13, 49, 53,\n",
      "         2, 27, 29, 40,  8, 98,  0, 32, 35,  0,  2, 77, 65, 29, 40,  0, 54, 18,\n",
      "        34, 15, 77, 66,  2, 76,  5, 60, 75, 78,  0, 74, 51, 83, 13, 88, 70, 51,\n",
      "         2, 15, 56, 86, 55, 68,  4, 28, 87, 43, 52, 24, 87, 38, 46, 49, 47, 33,\n",
      "        94, 54, 11, 10, 48, 30, 45, 37, 25, 26, 60, 86, 47, 38, 20, 43, 78, 91,\n",
      "         7, 31, 89, 53, 10, 58, 72, 76, 76, 83, 66, 68, 82, 21, 57, 26,  6, 64,\n",
      "        52, 93, 74, 50, 84, 95, 14, 11, 15, 24, 48, 38, 40, 72, 48,  6,  5, 54,\n",
      "        19, 54,  5, 72, 61, 97, 88, 32, 40,  4, 31, 75, 78, 14,  1, 63, 71, 67,\n",
      "        17, 46, 65, 83, 71, 75, 66, 68, 56, 56, 55, 32, 86, 88, 56, 59, 33, 44,\n",
      "        49, 29, 69,  3, 33, 89, 87, 59, 78, 16, 92, 90, 96, 15, 83, 37, 61, 60,\n",
      "        87, 56, 67,  2, 16,  2, 35, 71, 61, 51, 33, 38, 16, 83, 70, 32, 85,  1,\n",
      "        74, 57,  0, 10, 38, 92, 31, 29, 32, 13,  0, 68, 85, 24, 27, 89, 51, 25,\n",
      "        18, 89, 12, 11, 49, 82, 70, 26, 81, 97, 63, 83, 40, 78, 19, 12, 55, 80,\n",
      "        48, 65, 98, 30,  3, 15, 94, 98, 31, 69, 71, 49, 64, 51, 19, 88, 66, 31,\n",
      "        44, 32, 11, 19, 33,  8, 89,  7, 80, 57, 56, 42, 97,  0, 54, 11, 95, 67,\n",
      "        26, 35, 77, 38,  6, 50,  4, 25, 44, 73, 29, 80,  5, 62, 21, 26, 52, 19,\n",
      "        26,  9, 69, 79, 27, 20, 12, 56, 51, 75, 43, 61, 13, 91, 73, 32, 97, 14,\n",
      "        74, 90, 40, 74, 31, 81, 55, 76, 18, 34, 55, 56,  8, 27, 94, 67, 15, 30,\n",
      "        33, 15, 82, 72, 82, 57, 84, 94, 19, 89, 54, 21, 45, 60, 10, 10, 87, 46,\n",
      "        28, 43, 92, 73,  4, 19, 62, 81,  0, 38, 79,  0, 17, 57, 27, 90, 82, 30,\n",
      "        98, 50, 82, 65, 41, 58, 80, 98, 32, 95, 73,  0, 15, 66, 91,  9, 65, 89,\n",
      "        98, 38, 31, 47, 28, 70, 65, 62, 81, 30,  1, 63, 70, 95, 83,  6, 55, 85,\n",
      "        60, 97, 16, 70, 27, 46, 67,  0, 93, 15,  1, 79, 68,  5, 96, 44, 48, 70,\n",
      "        71,  2, 12, 18, 25, 63, 20, 95, 33, 52, 95,  5, 98, 29, 64,  0,  9, 67,\n",
      "        66, 58, 83, 90, 84, 57, 18, 45, 69,  7, 97, 90, 18, 74, 21, 32, 36,  7,\n",
      "        77, 39,  5, 65, 46,  0, 29, 89, 66, 87, 40, 77,  0, 76, 92, 63, 23, 83,\n",
      "        90, 57, 96, 87, 77, 59, 80, 63, 74,  3, 80,  6, 34,  4, 71, 86, 85, 57,\n",
      "        24, 31, 26, 37,  1, 81, 37, 17, 55, 95, 84, 84, 21, 85, 79, 19, 14, 15,\n",
      "        65, 33, 91,  0, 22,  1,  9,  6, 81, 79, 37, 17, 21, 53,  8, 46, 94, 86,\n",
      "        51, 25, 21, 35, 85, 23, 14, 60, 13, 70, 41, 51,  2, 90, 46, 12, 88, 91,\n",
      "        18, 15, 77, 20, 74, 76, 78, 28, 62, 45, 86, 78, 62, 94, 72, 41, 42, 42,\n",
      "        79, 67, 88, 48, 92, 69, 72, 62, 70, 44, 81, 82, 17, 66, 14, 92, 72, 65,\n",
      "        67, 59, 74, 33, 11, 92,  4, 58, 63, 40, 59, 49, 46, 18, 81, 50, 56, 55,\n",
      "        46, 26, 98,  9, 93, 60, 44, 38,  3, 24, 71, 56, 17, 68, 71,  9, 31, 47,\n",
      "        89, 24, 57, 24, 88, 71, 34, 40, 55, 29, 52,  1, 67, 29, 33, 25, 65, 92,\n",
      "        39, 47, 42, 51, 54,  7, 45, 44,  6,  3, 42, 68, 88, 55, 46, 14, 85, 16,\n",
      "        32, 23, 35, 19, 81, 67, 59, 59, 30, 78, 69,  3, 28, 84, 71,  1, 20, 69,\n",
      "         0, 46,  0,  2, 43, 85,  3, 78, 91, 40, 25,  1, 79,  9, 42, 20,  3, 46,\n",
      "        66, 48, 34, 18, 31, 29,  1, 33, 73, 77, 82, 49, 16, 21, 21, 57, 56, 63,\n",
      "        70, 95,  5, 28, 36, 43, 82, 17, 67, 71, 73, 58, 67, 57, 75, 48, 39, 30,\n",
      "        20, 69, 84, 47, 71, 88, 39, 60,  9, 86, 18, 21, 75, 40, 69, 15, 27, 89,\n",
      "        53, 37, 26, 44, 83, 47, 82, 98, 46, 65, 51, 94, 56, 21, 32, 89, 52,  9,\n",
      "        77, 68, 66, 60, 84, 67, 12, 33, 82, 69, 77, 83, 76, 32, 64, 81, 37,  9,\n",
      "        43, 57, 67, 25, 73, 48, 57, 34, 96, 24])\n"
     ]
    }
   ],
   "source": [
    "hi = fct_eval(positions[99])"
   ]
  },
  {
   "cell_type": "code",
   "execution_count": 9,
   "id": "7708fc0a",
   "metadata": {},
   "outputs": [
    {
     "data": {
      "text/plain": [
       "1000"
      ]
     },
     "execution_count": 9,
     "metadata": {},
     "output_type": "execute_result"
    }
   ],
   "source": [
    "len(hi)"
   ]
  },
  {
   "cell_type": "markdown",
   "id": "c1a48f82",
   "metadata": {},
   "source": [
    "xAxis = list(range(10,1000,10))\n",
    "fig = plt.figure()\n",
    "plt.xlabel('Nodes')\n",
    "plt.ylabel('l2error')\n",
    "txt=\"radius: \" + str((radius)/10)\n",
    "plt.figtext(0.5, 1, txt, wrap=True, horizontalalignment='center', fontsize=15)\n",
    "plt.plot(xAxis,err[:-1])\n",
    "#fig.savefig('../output/l2Error' + str(1002) + 'Nodes.png', dpi=fig.dpi)"
   ]
  },
  {
   "cell_type": "markdown",
   "id": "52ca329d",
   "metadata": {},
   "source": [
    "slope, intercept = np.polyfit(np.log(xAxis), np.log(err[:-1]), 1)\n",
    "txt=\"radius: \" + str((radius)/10) + \"  |  slope: \" + str(slope)\n",
    "plt.figtext(0.5, 1, txt, wrap=True, horizontalalignment='center', fontsize=15)\n",
    "plt.loglog(xAxis[:], err[:-1], '--')\n",
    "\n",
    "#fig.savefig('../output/Logl2Error' + str(1002) + 'Nodes.png', dpi=fig.dpi)"
   ]
  },
  {
   "cell_type": "code",
   "execution_count": 10,
   "id": "53ba8624",
   "metadata": {},
   "outputs": [
    {
     "data": {
      "text/plain": [
       "tensor(-0.0251313802)"
      ]
     },
     "execution_count": 10,
     "metadata": {},
     "output_type": "execute_result"
    }
   ],
   "source": [
    "ifft2_real[1,1]"
   ]
  },
  {
   "cell_type": "code",
   "execution_count": 17,
   "id": "b06af8e2",
   "metadata": {},
   "outputs": [],
   "source": [
    "hi = hi.reshape(1000,1)"
   ]
  },
  {
   "cell_type": "code",
   "execution_count": 18,
   "id": "c0fb0f13",
   "metadata": {},
   "outputs": [],
   "source": [
    "errs = [ ]\n",
    "y = torch.rand(1000,1)\n",
    "for i in [1,5,9]:\n",
    "    errs.append(error_fct(i, hi))"
   ]
  },
  {
   "cell_type": "code",
   "execution_count": 19,
   "id": "ebcf60e7",
   "metadata": {},
   "outputs": [
    {
     "data": {
      "text/plain": [
       "<matplotlib.legend.Legend at 0x7f0de1067880>"
      ]
     },
     "execution_count": 19,
     "metadata": {},
     "output_type": "execute_result"
    },
    {
     "data": {
      "image/png": "[encoded data removed]",
      "text/plain": [
       "<Figure size 432x288 with 1 Axes>"
      ]
     },
     "metadata": {
      "needs_background": "light"
     },
     "output_type": "display_data"
    }
   ],
   "source": [
    "xAxis = list(range(10,1000,10))\n",
    "fig = plt.figure()\n",
    "plt.xlabel('Nodes')\n",
    "plt.ylabel('l2error')\n",
    "#txt=\"radius: \" + str((radius)/10)\n",
    "#plt.figtext(0.5, 1, txt, wrap=True, horizontalalignment='center', fontsize=15)\n",
    "plt.plot(xAxis,errs[0][:-1],label='0.1')\n",
    "plt.plot(xAxis,errs[1][:-1], label='0.5')\n",
    "plt.plot(xAxis,errs[2][:-1],label='0.9')\n",
    "plt.legend()\n",
    "#fig.savefig('../output/l2Error' + str(1002) + 'Nodes.png', dpi=fig.dpi)"
   ]
  },
  {
   "cell_type": "code",
   "execution_count": 20,
   "id": "abb375c4",
   "metadata": {},
   "outputs": [
    {
     "ename": "IndexError",
     "evalue": "too many indices for tensor of dimension 0",
     "output_type": "error",
     "traceback": [
      "\u001b[0;31m---------------------------------------------------------------------------\u001b[0m",
      "\u001b[0;31mIndexError\u001b[0m                                Traceback (most recent call last)",
      "\u001b[0;32m<ipython-input-20-d1837281a9bc>\u001b[0m in \u001b[0;36m<module>\u001b[0;34m\u001b[0m\n\u001b[0;32m----> 1\u001b[0;31m \u001b[0mhi\u001b[0m \u001b[0;34m=\u001b[0m \u001b[0mfct_eval\u001b[0m\u001b[0;34m(\u001b[0m\u001b[0mtorch\u001b[0m\u001b[0;34m.\u001b[0m\u001b[0mtensor\u001b[0m\u001b[0;34m(\u001b[0m\u001b[0;34m[\u001b[0m\u001b[0;36m0.6\u001b[0m\u001b[0;34m,\u001b[0m \u001b[0;36m0.1\u001b[0m\u001b[0;34m]\u001b[0m\u001b[0;34m)\u001b[0m\u001b[0;34m)\u001b[0m\u001b[0;34m\u001b[0m\u001b[0;34m\u001b[0m\u001b[0m\n\u001b[0m",
      "\u001b[0;32m<ipython-input-7-003206387952>\u001b[0m in \u001b[0;36mfct_eval\u001b[0;34m(tensor)\u001b[0m\n\u001b[1;32m      1\u001b[0m \u001b[0;32mdef\u001b[0m \u001b[0mfct_eval\u001b[0m\u001b[0;34m(\u001b[0m\u001b[0mtensor\u001b[0m\u001b[0;34m)\u001b[0m\u001b[0;34m:\u001b[0m\u001b[0;34m\u001b[0m\u001b[0;34m\u001b[0m\u001b[0m\n\u001b[0;32m----> 2\u001b[0;31m     \u001b[0mi\u001b[0m \u001b[0;34m=\u001b[0m \u001b[0mtensor\u001b[0m\u001b[0;34m[\u001b[0m\u001b[0;36m0\u001b[0m\u001b[0;34m]\u001b[0m\u001b[0;34m[\u001b[0m\u001b[0;34m:\u001b[0m\u001b[0;34m,\u001b[0m\u001b[0;36m0\u001b[0m\u001b[0;34m]\u001b[0m\u001b[0;34m*\u001b[0m\u001b[0;36m100\u001b[0m\u001b[0;34m-\u001b[0m\u001b[0;36m1\u001b[0m\u001b[0;34m\u001b[0m\u001b[0;34m\u001b[0m\u001b[0m\n\u001b[0m\u001b[1;32m      3\u001b[0m     \u001b[0mi\u001b[0m \u001b[0;34m=\u001b[0m \u001b[0mi\u001b[0m\u001b[0;34m.\u001b[0m\u001b[0mtype\u001b[0m\u001b[0;34m(\u001b[0m\u001b[0mtorch\u001b[0m\u001b[0;34m.\u001b[0m\u001b[0mLongTensor\u001b[0m\u001b[0;34m)\u001b[0m\u001b[0;34m\u001b[0m\u001b[0;34m\u001b[0m\u001b[0m\n\u001b[1;32m      4\u001b[0m     \u001b[0mprint\u001b[0m\u001b[0;34m(\u001b[0m\u001b[0mi\u001b[0m\u001b[0;34m)\u001b[0m\u001b[0;34m\u001b[0m\u001b[0;34m\u001b[0m\u001b[0m\n\u001b[1;32m      5\u001b[0m     \u001b[0mj\u001b[0m \u001b[0;34m=\u001b[0m \u001b[0mtensor\u001b[0m\u001b[0;34m[\u001b[0m\u001b[0;36m0\u001b[0m\u001b[0;34m]\u001b[0m\u001b[0;34m[\u001b[0m\u001b[0;34m:\u001b[0m\u001b[0;34m,\u001b[0m\u001b[0;36m1\u001b[0m\u001b[0;34m]\u001b[0m\u001b[0;34m*\u001b[0m\u001b[0;36m100\u001b[0m\u001b[0;34m-\u001b[0m\u001b[0;36m1\u001b[0m\u001b[0;34m\u001b[0m\u001b[0;34m\u001b[0m\u001b[0m\n",
      "\u001b[0;31mIndexError\u001b[0m: too many indices for tensor of dimension 0"
     ]
    }
   ],
   "source": [
    "hi = fct_eval(torch.tensor([0.6, 0.1]))"
   ]
  },
  {
   "cell_type": "code",
   "execution_count": null,
   "id": "ddd19725",
   "metadata": {},
   "outputs": [],
   "source": [
    "slope0, intercept0 = np.polyfit(np.log(xAxis), np.log(errs[0][:-1]), 1)\n",
    "slope1, intercept1 = np.polyfit(np.log(xAxis), np.log(errs[1][:-1]), 1)\n",
    "slope2, intercept2 = np.polyfit(np.log(xAxis), np.log(errs[2][:-1]), 1)\n",
    "\n",
    "\n",
    "#txt=\"radius: \" + str((radius)/10) + \"  |  slope: \" + str(slope)\n",
    "#plt.figtext(0.5, 1, txt, wrap=True, horizontalalignment='center', fontsize=15)\n",
    "plt.loglog(xAxis[:],errs[0][:-1], '--', label = '0.1 | slope: ' + str(slope0))\n",
    "plt.loglog(xAxis[:],errs[1][:-1], '--', label = '0.5 | slope: ' + str(slope1))           \n",
    "plt.loglog(xAxis[:],errs[2][:-1], '--', label = '0.9 | slope: ' + str(slope2))           \n",
    "plt.legend()\n",
    "\n",
    "#fig.savefig('../output/Logl2Error' + str(1002) + 'Nodes.png', dpi=fig.dpi)"
   ]
  },
  {
   "cell_type": "code",
   "execution_count": null,
   "id": "c9e22cd1",
   "metadata": {},
   "outputs": [],
   "source": [
    "errs[1]"
   ]
  },
  {
   "cell_type": "code",
   "execution_count": null,
   "id": "0cd65e3d",
   "metadata": {},
   "outputs": [],
   "source": []
  }
 ],
 "metadata": {
  "kernelspec": {
   "display_name": "Python 3",
   "language": "python",
   "name": "python3"
  },
  "language_info": {
   "codemirror_mode": {
    "name": "ipython",
    "version": 3
   },
   "file_extension": ".py",
   "mimetype": "text/x-python",
   "name": "python",
   "nbconvert_exporter": "python",
   "pygments_lexer": "ipython3",
   "version": "3.8.12"
  }
 },
 "nbformat": 4,
 "nbformat_minor": 5
}
