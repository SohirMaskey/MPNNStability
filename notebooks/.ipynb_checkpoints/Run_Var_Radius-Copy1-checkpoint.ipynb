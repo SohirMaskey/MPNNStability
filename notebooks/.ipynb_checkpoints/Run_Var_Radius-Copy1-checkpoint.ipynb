{
 "cells": [
  {
   "cell_type": "code",
   "execution_count": 13,
   "id": "45d1518c",
   "metadata": {},
   "outputs": [],
   "source": [
    "\"\"\"\n",
    "We created a dataset with graphs of size 2^1,2^2,..,2^15,2^16. This data set is saved in //home/groups/ai/maskey/input_rad/processed. A graph of size n and constructed with radius r, can be read out by \"DL.get(10*r,n)\" after constructing the Data loader object, e.g. \"DL = RGGDataset_grid(root = '../../input_rad')\".\n",
    "\n",
    "Then, we use the finest graph(size 2^16) as the continuous limit object and calculate graph wise l^2 errors with some graph signal. \n",
    "\n",
    "\"\"\"\n",
    "\n",
    "import numpy as np\n",
    "import torch\n",
    "from torch_geometric.data import Data #for constructing data/graph objects from the sample points\n",
    "import time\n",
    "\n",
    "import random\n",
    "\n",
    "import matplotlib.pyplot as plt\n",
    "\n",
    "from torch_geometric.nn import SAGEConv #used for the model construction\n",
    "from torch_geometric.nn import MessagePassing\n",
    "from torch_geometric.utils import add_self_loops, degree\n",
    "import torch.nn.functional as F\n",
    "\n",
    "import sys\n",
    "sys.path.insert(1,'../src')\n",
    "from DataLoader_rad_grid import RGGDataset_grid #This is the class to load data\n",
    "from TwoLayerGraphSage import GCN #This is our MPNN\n",
    "\n",
    "import os.path as osp\n",
    "\n",
    "from torch_geometric.data import Dataset, download_url\n",
    "\n",
    "import os\n",
    "\n",
    "import pickle #for saving\n",
    "\n",
    "DL = RGGDataset_grid(root = '../../input_rad')\n",
    "\n",
    "dataset = DL.get(1,2**5)\n",
    "\n",
    "#load the positions, list of positions for all graphs\n",
    "positions = torch.load('../../input_rad/raw/grid_positions_128.pt')\n",
    "\n",
    "model = GCN()\n",
    "model.load_state_dict(torch.load( '../models/GCNTwoLayersGraphSage'))\n",
    "\n",
    "N = 14\n",
    "\n",
    "def error_fct(radius, signal):\n",
    "    \"\"\"\n",
    "    Calculates for a given radius and signal the error between the coarser graphs and finest graph\n",
    "    \n",
    "    \"\"\"\n",
    "    L2Errors = []\n",
    "\n",
    "    cdata = DL.get(radius,2**N)\n",
    "    cpos = positions[-1]\n",
    "\n",
    "    cdata.x = signal \n",
    "\n",
    "    output = model.forward(cdata)\n",
    "\n",
    "        \n",
    "    for i in [12]:\n",
    "        data = DL.get(radius, 2**i) \n",
    "        pos = positions[i-1]\n",
    "        signal = cdata.x[pos[1].type(torch.LongTensor)]\n",
    "        signal = torch.reshape(signal,( len(signal),1))\n",
    "        data.x = signal #+ (1**0.5)*torch.randn(len(signal),1) #random noise\n",
    "\n",
    "        nodeErrors = output[pos[1].type(torch.LongTensor)] - model.forward(data)\n",
    "        L2Error = torch.sqrt(1/len(nodeErrors)*torch.sum(torch.pow(nodeErrors,2)))\n",
    "        L2Errors.append(L2Error)\n",
    "\n",
    "    err = [x.detach().numpy() for x in L2Errors]\n",
    "\n",
    "    return err\n",
    "\n",
    "errs = [ ]\n",
    "#low_pass = lambda x:  (1+(torch.tensor(x[:,0]**2 + x[:,1]**2))).pow_(-1)\n",
    "low_pass = lambda x:  x[:,0]*x[:,1]\n",
    "#y = torch.randn(2**N,1)\n",
    "\n",
    "cdata = DL.get(1,2**N)\n",
    "cpos = positions[-1]\n",
    "signal = low_pass(cpos[0])\n",
    "signal = torch.reshape(signal,( len(signal),1))\n",
    "#cdata.x = y \n",
    "#signal = y"
   ]
  },
  {
   "cell_type": "code",
   "execution_count": 14,
   "id": "04b7cbb3",
   "metadata": {},
   "outputs": [],
   "source": [
    "errs = []"
   ]
  },
  {
   "cell_type": "code",
   "execution_count": 15,
   "id": "af5edeaf",
   "metadata": {},
   "outputs": [],
   "source": [
    "for i in range(1,11):\n",
    "    errs.append(error_fct(i, signal))"
   ]
  },
  {
   "cell_type": "code",
   "execution_count": null,
   "id": "630b64c6",
   "metadata": {},
   "outputs": [],
   "source": [
    "xAxis = list(range(0,9))\n",
    "fig = plt.figure()\n",
    "plt.xlabel('radius')\n",
    "plt.ylabel('l2error')\n",
    "plt.plot(xAxis,errs[0][:-1],label='100 nodes')"
   ]
  },
  {
   "cell_type": "code",
   "execution_count": 16,
   "id": "90d62298",
   "metadata": {},
   "outputs": [
    {
     "data": {
      "text/plain": [
       "<matplotlib.legend.Legend at 0x7efeff425700>"
      ]
     },
     "execution_count": 16,
     "metadata": {},
     "output_type": "execute_result"
    },
    {
     "data": {
      "image/png": "[encoded data removed]",
      "text/plain": [
       "<Figure size 432x288 with 1 Axes>"
      ]
     },
     "metadata": {
      "needs_background": "light"
     },
     "output_type": "display_data"
    }
   ],
   "source": [
    "xAxis = list(range(1,11))\n",
    "xAxis = [x/10 for x in xAxis]\n",
    "fig = plt.figure()\n",
    "plt.xlabel('Radius')\n",
    "plt.ylabel('l2error')\n",
    "#txt=\"radius: \" + str((radius)/10)\n",
    "#plt.figtext(0.5, 1, txt, wrap=True, horizontalalignment='center', fontsize=15)\n",
    "plt.plot(xAxis,errs,label= str(2**N) + 'nodes')\n",
    "#plt.plot(xAxis, [x.detach().numpy() for x in L2[4]], label='500 nodes')\n",
    "#plt.plot(xAxis,[x.detach().numpy() for x in L2[8]],label='900 nodes')\n",
    "plt.legend()\n",
    "#fig.savefig('../output/l2Error' + str(1002) + 'Nodes.png', dpi=fig.dpi)"
   ]
  },
  {
   "cell_type": "code",
   "execution_count": 37,
   "id": "bb15a354",
   "metadata": {},
   "outputs": [],
   "source": [
    "xAxis = list(range(0,10))"
   ]
  },
  {
   "cell_type": "code",
   "execution_count": 42,
   "id": "dc08db7a",
   "metadata": {},
   "outputs": [],
   "source": [
    "xAxis = [x/10 for x in xAxis]"
   ]
  },
  {
   "cell_type": "code",
   "execution_count": 43,
   "id": "1dad3c90",
   "metadata": {},
   "outputs": [
    {
     "data": {
      "text/plain": [
       "[0.0, 0.01, 0.02, 0.03, 0.04, 0.05, 0.06, 0.06999999999999999, 0.08, 0.09]"
      ]
     },
     "execution_count": 43,
     "metadata": {},
     "output_type": "execute_result"
    }
   ],
   "source": [
    "xAxis"
   ]
  },
  {
   "cell_type": "code",
   "execution_count": null,
   "id": "9de26c37",
   "metadata": {},
   "outputs": [],
   "source": []
  }
 ],
 "metadata": {
  "kernelspec": {
   "display_name": "Python 3",
   "language": "python",
   "name": "python3"
  },
  "language_info": {
   "codemirror_mode": {
    "name": "ipython",
    "version": 3
   },
   "file_extension": ".py",
   "mimetype": "text/x-python",
   "name": "python",
   "nbconvert_exporter": "python",
   "pygments_lexer": "ipython3",
   "version": "3.8.12"
  }
 },
 "nbformat": 4,
 "nbformat_minor": 5
}
