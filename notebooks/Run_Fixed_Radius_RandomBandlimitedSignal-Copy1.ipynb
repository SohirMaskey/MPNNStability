{
 "cells": [
  {
   "cell_type": "code",
   "execution_count": 1,
   "id": "45d1518c",
   "metadata": {},
   "outputs": [
    {
     "name": "stderr",
     "output_type": "stream",
     "text": [
      "/home/math/maskey/anaconda3/envs/pyg_cuda102/lib/python3.8/site-packages/torch_geometric/data/storage.py:244: UserWarning: Unable to accurately infer 'num_nodes' from the attribute set '{'edge_index'}'. Please explicitly set 'num_nodes' as an attribute of 'data' to suppress this warning\n",
      "  warnings.warn(\n",
      "09:50:06|TQ-INFO| Initializing torchquad.\n"
     ]
    }
   ],
   "source": [
    "import numpy as np\n",
    "import networkx as nx\n",
    "import torch\n",
    "from torch_geometric.data import Data\n",
    "import time\n",
    "\n",
    "import random\n",
    "from torch_geometric.utils import from_networkx\n",
    "\n",
    "import matplotlib.pyplot as plt\n",
    "from matplotlib import cm\n",
    "from matplotlib.ticker import LinearLocator\n",
    "\n",
    "from torch_geometric.nn import SAGEConv\n",
    "\n",
    "from torch_geometric.nn import MessagePassing\n",
    "from torch_geometric.utils import add_self_loops, degree\n",
    "import torch.nn.functional as F\n",
    "\n",
    "import sys\n",
    "sys.path.insert(1,'../src')\n",
    "from DataLoader_rad_grid import RGGDataset_grid\n",
    "from TwoLayerGraphSage import GCN, cGCN\n",
    "from Utils import *\n",
    "\n",
    "import os.path as osp\n",
    "\n",
    "from torch_geometric.data import Dataset, download_url\n",
    "\n",
    "\n",
    "import os"
   ]
  },
  {
   "cell_type": "code",
   "execution_count": 2,
   "id": "edbfa847",
   "metadata": {},
   "outputs": [],
   "source": [
    "DL = RGGDataset_grid(root = '../../input_rad')\n",
    "\n",
    "dataset = DL.get(1,2**5)"
   ]
  },
  {
   "cell_type": "code",
   "execution_count": 3,
   "id": "aae81b32",
   "metadata": {},
   "outputs": [],
   "source": [
    "positions = torch.load('../../input_rad/raw/grid_positions_128.pt')"
   ]
  },
  {
   "cell_type": "code",
   "execution_count": 4,
   "id": "84ca0bb5",
   "metadata": {},
   "outputs": [
    {
     "data": {
      "text/plain": [
       "<All keys matched successfully>"
      ]
     },
     "execution_count": 4,
     "metadata": {},
     "output_type": "execute_result"
    }
   ],
   "source": [
    "model = GCN()\n",
    "model.load_state_dict(torch.load( '../models/GCNTwoLayersGraphSage'))\n",
    "\n",
    "cGCNN = cGCN()\n",
    "cGCNN.load_state_dict(torch.load( '../models/cGCNTwoLayersGraphSage'))"
   ]
  },
  {
   "cell_type": "code",
   "execution_count": 5,
   "id": "ae0e7a36",
   "metadata": {},
   "outputs": [],
   "source": [
    "N = 14"
   ]
  },
  {
   "cell_type": "code",
   "execution_count": 6,
   "id": "95e6471a",
   "metadata": {},
   "outputs": [],
   "source": [
    "def error_fct(radius, signal):\n",
    "    L2Errors = []\n",
    "\n",
    "    cdata = DL.get(radius,2**N)\n",
    "    cpos = positions[-1]\n",
    "\n",
    "    cdata.x = signal \n",
    "\n",
    "    output = model.forward(cdata)\n",
    "\n",
    "        \n",
    "    for i in range(1, N):\n",
    "        start = time.time()\n",
    "        data = DL.get(radius, 2**i) \n",
    "        pos = positions[i-1]\n",
    "        signal = cdata.x[pos[1].type(torch.LongTensor)]\n",
    "        signal = torch.reshape(signal,( len(signal),1))\n",
    "        data.x = signal # + (0.01**0.5)*torch.randn(len(signal),1) #random noise\n",
    "\n",
    "        nodeErrors = output[pos[1].type(torch.LongTensor)] - model.forward(data)\n",
    "        L2Error = torch.sqrt(1/len(nodeErrors)*torch.sum(torch.pow(nodeErrors,2)))\n",
    "        L2Errors.append(L2Error)\n",
    "        end = time.time()\n",
    "        print(f\"{i}: Took {(end-start)* 1000.0:.3f} ms\")\n",
    "\n",
    "    err = [x.detach().numpy() for x in L2Errors]\n",
    "\n",
    "    return err"
   ]
  },
  {
   "cell_type": "code",
   "execution_count": 7,
   "id": "35ca09d7",
   "metadata": {},
   "outputs": [],
   "source": [
    "def create_randn_bandlimited(gridsize=256, sup=20, ampl=3):\n",
    "    #gridsize=int(gridsize)\n",
    "    #sup=int(sup) \n",
    "    #ampl=int(ampl)\n",
    "    support = torch.randn(sup, sup, dtype=torch.complex64) #we create the support of the signal in Fourier domain\n",
    "    square = torch.zeros(gridsize,gridsize,dtype = torch.complex64)\n",
    "    square[:sup,-sup:] = support\n",
    "    square[:ampl,-ampl:]  =  square[:ampl,-ampl:]*100\n",
    "    ifft2 = torch.fft.ifft2(square) #now we have the signal in time domain \n",
    "    ifft2_real = ifft2.real\n",
    "    return ifft2_real"
   ]
  },
  {
   "cell_type": "code",
   "execution_count": 8,
   "id": "c40185bd",
   "metadata": {},
   "outputs": [],
   "source": [
    "def plot_fct(fct, gridsize=256):\n",
    "    \"\"\"\n",
    "    fct is a grid\n",
    "    \"\"\"\n",
    "    fig, ax = plt.subplots(subplot_kw={\"projection\": \"3d\"})\n",
    "\n",
    "    # Make data.\n",
    "    X = np.arange(0, 1, 1/gridsize)\n",
    "    Y = np.arange(0, 1, 1/gridsize)\n",
    "    X, Y = np.meshgrid(X, Y)\n",
    "    Z = fct.detach().numpy()\n",
    "\n",
    "    # Plot the surface.\n",
    "    surf = ax.plot_surface(X, Y, Z, cmap=cm.coolwarm,\n",
    "                           linewidth=0, antialiased=False)\n",
    "\n",
    "    # Customize the z axis.\n",
    "    ax.set_zlim(-1.01, 1.01)\n",
    "    ax.zaxis.set_major_locator(LinearLocator(10))\n",
    "    # A StrMethodFormatter is used automatically\n",
    "    ax.zaxis.set_major_formatter('{x:.02f}')\n",
    "\n",
    "    # Add a color bar which maps values to colors.\n",
    "    fig.colorbar(surf, shrink=0.5, aspect=5)\n",
    "\n",
    "    plt.show()"
   ]
  },
  {
   "cell_type": "code",
   "execution_count": 9,
   "id": "9634136d",
   "metadata": {},
   "outputs": [],
   "source": [
    "def fct_eval(fct, pos): \n",
    "    \"\"\"\n",
    "    For evaluating the signal we got above in a vector in [0,1]^2. The idea is that the IFFT gives us a 256x256\n",
    "    grid. For every 2D vector, we check by the above calculations in which grid-patch it lies and then\n",
    "    evealuate the signal we receive by IFFT in it.\n",
    "    \"\"\"\n",
    "    \n",
    "    i = pos[0][:,0]*257-1\n",
    "    i = i.type(torch.LongTensor) \n",
    "    j = pos[0][:,1]*257-1\n",
    "    j = j.type(torch.LongTensor)\n",
    "    return fct[i,j]"
   ]
  },
  {
   "cell_type": "code",
   "execution_count": 10,
   "id": "c0fb0f13",
   "metadata": {},
   "outputs": [
    {
     "name": "stdout",
     "output_type": "stream",
     "text": [
      "1: Took 15.127 ms\n",
      "2: Took 16.995 ms\n",
      "3: Took 49.406 ms\n",
      "4: Took 35.115 ms\n",
      "5: Took 7.094 ms\n",
      "6: Took 46.969 ms\n",
      "7: Took 67.775 ms\n",
      "8: Took 46.287 ms\n",
      "9: Took 176.322 ms\n",
      "10: Took 797.723 ms\n",
      "11: Took 131.501 ms\n",
      "12: Took 176.533 ms\n",
      "13: Took 535.785 ms\n",
      "1: Took 19.305 ms\n",
      "2: Took 17.602 ms\n",
      "3: Took 18.310 ms\n",
      "4: Took 65.572 ms\n",
      "5: Took 15.694 ms\n",
      "6: Took 20.569 ms\n",
      "7: Took 4.421 ms\n",
      "8: Took 51.251 ms\n",
      "9: Took 118.312 ms\n",
      "10: Took 176.479 ms\n",
      "11: Took 414.672 ms\n",
      "12: Took 1129.572 ms\n",
      "13: Took 4178.736 ms\n",
      "1: Took 12.577 ms\n",
      "2: Took 14.049 ms\n",
      "3: Took 14.136 ms\n",
      "4: Took 20.785 ms\n",
      "5: Took 17.314 ms\n",
      "6: Took 11.591 ms\n",
      "7: Took 12.033 ms\n",
      "8: Took 45.773 ms\n",
      "9: Took 117.722 ms\n",
      "10: Took 137.138 ms\n",
      "11: Took 483.036 ms\n",
      "12: Took 1448.971 ms\n",
      "13: Took 6996.847 ms\n"
     ]
    }
   ],
   "source": [
    "ifft2_real = create_randn_bandlimited()\n",
    "signal = fct_eval(ifft2_real, positions[-1]).reshape(2**N,1) #evaluation in all vectors we sampled\n",
    "errs = [ ]\n",
    "for i in [1, 5, 9]:\n",
    "    errs.append(error_fct(i, signal))"
   ]
  },
  {
   "cell_type": "markdown",
   "id": "6affe08d",
   "metadata": {},
   "source": [
    "for i in [1,5,9]:\n",
    "    start = time.time()\n",
    "    error = [0 for x in range(1)]\n",
    "    for i in range(1):\n",
    "        error = [sum(x) for x in zip(error, error_fct(i, signal))]\n",
    "        #error = error + error_fct(i, signal) \n",
    "    errs.append(error/1)\n",
    "    end = time.time()\n",
    "    print(str(i) + \": \" +  str((end-start)*1000))"
   ]
  },
  {
   "cell_type": "code",
   "execution_count": 11,
   "id": "ebcf60e7",
   "metadata": {},
   "outputs": [
    {
     "data": {
      "text/plain": [
       "<matplotlib.legend.Legend at 0x7fb8b8e67d90>"
      ]
     },
     "execution_count": 11,
     "metadata": {},
     "output_type": "execute_result"
    },
    {
     "data": {
      "image/png": "[encoded data removed]",
      "text/plain": [
       "<Figure size 432x288 with 1 Axes>"
      ]
     },
     "metadata": {
      "needs_background": "light"
     },
     "output_type": "display_data"
    }
   ],
   "source": [
    "xAxis = [2**n for n in range(1,14)]\n",
    "fig = plt.figure()\n",
    "plt.xlabel('Nodes')\n",
    "plt.ylabel('l2error')\n",
    "plt.yscale('log')\n",
    "#txt=\"radius: \" + str((radius)/10)\n",
    "#plt.figtext(0.5, 1, txt, wrap=True, horizontalalignment='center', fontsize=15)\n",
    "plt.plot(xAxis,errs[0],label='0.1')\n",
    "plt.plot(xAxis,errs[1], label='0.5')\n",
    "plt.plot(xAxis,errs[2],label='0.9')\n",
    "plt.legend()\n",
    "#fig.savefig('../output/l2Error' + str(1002) + 'Nodes.png', dpi=fig.dpi)"
   ]
  },
  {
   "cell_type": "code",
   "execution_count": 12,
   "id": "ddd19725",
   "metadata": {},
   "outputs": [
    {
     "data": {
      "text/plain": [
       "<matplotlib.legend.Legend at 0x7fb8b8c420a0>"
      ]
     },
     "execution_count": 12,
     "metadata": {},
     "output_type": "execute_result"
    },
    {
     "data": {
      "image/png": "[encoded data removed]",
      "text/plain": [
       "<Figure size 432x288 with 1 Axes>"
      ]
     },
     "metadata": {
      "needs_background": "light"
     },
     "output_type": "display_data"
    }
   ],
   "source": [
    "slope0, intercept0 = np.polyfit(np.log(xAxis), np.log(errs[0]), 1)\n",
    "slope1, intercept1 = np.polyfit(np.log(xAxis), np.log(errs[1]), 1)\n",
    "slope2, intercept2 = np.polyfit(np.log(xAxis), np.log(errs[2]), 1)\n",
    "\n",
    "\n",
    "#txt=\"radius: \" + str((radius)/10) + \"  |  slope: \" + str(slope)\n",
    "#plt.figtext(0.5, 1, txt, wrap=True, horizontalalignment='center', fontsize=15)\n",
    "plt.loglog(xAxis[:],errs[0], '--', label = '0.1 | slope: ' + str(slope0))\n",
    "plt.loglog(xAxis[:],errs[1], '--', label = '0.5 | slope: ' + str(slope1))           \n",
    "plt.loglog(xAxis[:],errs[2], '--', label = '0.9 | slope: ' + str(slope2))           \n",
    "plt.legend()\n",
    "\n",
    "#fig.savefig('../output/Logl2Error' + str(1002) + 'Nodes.png', dpi=fig.dpi)"
   ]
  },
  {
   "cell_type": "code",
   "execution_count": 19,
   "id": "52e73186",
   "metadata": {},
   "outputs": [
    {
     "name": "stdout",
     "output_type": "stream",
     "text": [
      "0 1\n",
      "1: Took 4.954 ms\n",
      "2: Took 5.185 ms\n",
      "3: Took 4.583 ms\n",
      "4: Took 5.157 ms\n",
      "5: Took 4.708 ms\n",
      "6: Took 5.611 ms\n",
      "7: Took 6.492 ms\n",
      "8: Took 10.380 ms\n",
      "9: Took 12.783 ms\n",
      "10: Took 41.768 ms\n",
      "11: Took 41.119 ms\n",
      "12: Took 135.700 ms\n",
      "13: Took 255.617 ms\n",
      "14: Took 1014.909 ms\n",
      "1 5\n",
      "1: Took 8.876 ms\n",
      "2: Took 9.947 ms\n",
      "3: Took 15.809 ms\n",
      "4: Took 13.272 ms\n",
      "5: Took 15.966 ms\n",
      "6: Took 16.396 ms\n",
      "7: Took 7.025 ms\n",
      "8: Took 14.228 ms\n",
      "9: Took 26.952 ms\n",
      "10: Took 102.383 ms\n",
      "11: Took 246.134 ms\n",
      "12: Took 1102.827 ms\n",
      "13: Took 4834.399 ms\n",
      "14: Took 20524.353 ms\n",
      "2 9\n",
      "1: Took 10.471 ms\n",
      "2: Took 9.118 ms\n",
      "3: Took 6.915 ms\n",
      "4: Took 5.202 ms\n",
      "5: Took 9.143 ms\n",
      "6: Took 11.872 ms\n",
      "7: Took 12.272 ms\n",
      "8: Took 26.750 ms\n",
      "9: Took 44.565 ms\n",
      "10: Took 150.344 ms\n",
      "11: Took 534.569 ms\n",
      "12: Took 1914.601 ms\n",
      "13: Took 9583.286 ms\n",
      "14: Took 45125.978 ms\n",
      "0: 164154.7293663025\n"
     ]
    },
    {
     "data": {
      "image/png": "[encoded data removed]",
      "text/plain": [
       "<Figure size 432x288 with 1 Axes>"
      ]
     },
     "metadata": {
      "needs_background": "light"
     },
     "output_type": "display_data"
    },
    {
     "data": {
      "image/png": "[encoded data removed]",
      "text/plain": [
       "<Figure size 432x288 with 1 Axes>"
      ]
     },
     "metadata": {
      "needs_background": "light"
     },
     "output_type": "display_data"
    }
   ],
   "source": [
    "\"\"\"\n",
    "We created a dataset with graphs of size 2^1,2^2,..,2^15,2^16. This data set is saved in //home/groups/ai/maskey/input_rad/processed. A graph of size n and constructed with radius r, can be read out by \"DL.get(10*r,n)\" after constructing the Data loader object, e.g. \"DL = RGGDataset_grid(root = '../../input_rad')\".\n",
    "\n",
    "Then, we use the finest graph(size 2^16) as the continuous limit object and calculate graph wise l^2 errors with some graph signal. \n",
    "\n",
    "\"\"\"\n",
    "\n",
    "import numpy as np\n",
    "import torch\n",
    "from torch_geometric.data import Data #for constructing data/graph objects from the sample points\n",
    "import time\n",
    "\n",
    "import random\n",
    "\n",
    "import matplotlib.pyplot as plt\n",
    "\n",
    "from torch_geometric.nn import SAGEConv #used for the model construction\n",
    "from torch_geometric.nn import MessagePassing\n",
    "from torch_geometric.utils import add_self_loops, degree\n",
    "import torch.nn.functional as F\n",
    "\n",
    "import sys\n",
    "sys.path.insert(1,'../src')\n",
    "from DataLoader_rad_grid import RGGDataset_grid #This is the class to load data\n",
    "from TwoLayerGraphSage import GCN #This is our MPNN\n",
    "\n",
    "import os.path as osp\n",
    "\n",
    "from torch_geometric.data import Dataset, download_url\n",
    "\n",
    "import os\n",
    "\n",
    "import pickle #for saving\n",
    "\n",
    "#DL = RGGDataset_grid(root = '../../input_rad')\n",
    "\n",
    "#dataset = DL.get(1,2**5)\n",
    "\n",
    "#load the positions, list of positions for all graphs\n",
    "positions = torch.load('../../input_rad/raw/grid_positions_128.pt')\n",
    "\n",
    "model = GCN()\n",
    "model.load_state_dict(torch.load( '../models/GCNTwoLayersGraphSage'))\n",
    "\n",
    "N = 14\n",
    "\n",
    "\n",
    "def create_randn_bandlimited(gridsize=256, sup=20, ampl=3):\n",
    "    #gridsize=int(gridsize)\n",
    "    #sup=int(sup) \n",
    "    #ampl=int(ampl)\n",
    "    support = torch.randn(sup, sup, dtype=torch.complex64) #we create the support of the signal in Fourier domain\n",
    "    square = torch.zeros(gridsize,gridsize,dtype = torch.complex64)\n",
    "    square[:sup,-sup:] = support\n",
    "    square[:ampl,-ampl:]  =  square[:ampl,-ampl:]*100\n",
    "    ifft2 = torch.fft.ifft2(square) #now we have the signal in time domain \n",
    "    ifft2_real = ifft2.real\n",
    "    return ifft2_real\n",
    "\n",
    "def fct_eval(fct, pos): \n",
    "    \"\"\"\n",
    "    For evaluating the signal we got above in a vector in [0,1]^2. The idea is that the IFFT gives us a 256x256\n",
    "    grid. For every 2D vector, we check by the above calculations in which grid-patch it lies and then\n",
    "    evealuate the signal we receive by IFFT in it.\n",
    "    \"\"\"\n",
    "    \n",
    "    i = pos[0][:,0]*257-1\n",
    "    i = i.type(torch.LongTensor) \n",
    "    j = pos[0][:,1]*257-1\n",
    "    j = j.type(torch.LongTensor)\n",
    "    return fct[i,j]\n",
    "\n",
    "def error_fct(radius, signal):\n",
    "    \"\"\"\n",
    "    Calculates for a given radius and signal the error between the coarser graphs and finest graph\n",
    "    \n",
    "    \"\"\"\n",
    "    DL = RGGDataset_grid(root = '../../input_rad', radius= radius/10,size = 7)\n",
    "    DL.process_grid()\n",
    "    \n",
    "    L2Errors = []\n",
    "\n",
    "    cdata = DL.get(radius,2**N)\n",
    "    cpos = positions[-1]\n",
    "\n",
    "    cdata.x = signal \n",
    "\n",
    "    output = model.forward(cdata)\n",
    "\n",
    "        \n",
    "    for i in range(1, N):\n",
    "        data = DL.get(radius, 2**i) \n",
    "        pos = positions[i-1]\n",
    "        signal = cdata.x[pos[1].type(torch.LongTensor)]\n",
    "        signal = torch.reshape(signal,( len(signal),1))\n",
    "        data.x = signal # + (0.01**0.5)*torch.randn(len(signal),1) #random noise\n",
    "\n",
    "        nodeErrors = output[pos[1].type(torch.LongTensor)] - model.forward(data)\n",
    "        L2Error = torch.sqrt(1/len(nodeErrors)*torch.sum(torch.pow(nodeErrors,2)))\n",
    "        L2Errors.append(L2Error)\n",
    "\n",
    "    err = [x.detach().numpy() for x in L2Errors]\n",
    "\n",
    "    return err\n",
    "\n",
    "errs = [ [0]*2**N, [0]*2**N, [0]*2**N]\n",
    "\n",
    "#low_pass = lambda x:  (1+(torch.tensor(x[:,0]**2 + x[:,1]**2))).pow_(-1)\n",
    "\n",
    "low_pass = lambda x:  x[:,0]*x[:,1] #the signal\n",
    "\n",
    "#y = torch.randn(2**N,1)\n",
    "#cdata = DL.get(1,2**N)\n",
    "cpos = positions[-1]\n",
    "signal = low_pass(cpos[0])\n",
    "signal = torch.reshape(signal,( len(signal),1))\n",
    "#cdata.x = y \n",
    "#signal = y\n",
    "\n",
    "epochs = 1 #It is a random experiment, How often do we repeat it?\n",
    "\n",
    "ifft2_real = create_randn_bandlimited()\n",
    "signal = fct_eval(ifft2_real, positions[-1]).reshape(2**N,1) #evaluation in all vectors we sampled\n",
    "\n",
    "for j in range(epochs):\n",
    "    start = time.time()\n",
    "    ifft2_real = create_randn_bandlimited()\n",
    "    signal = fct_eval(ifft2_real, positions[-1]).reshape(2**N,1) \n",
    "    #error = [ , , , ]\n",
    "    for i, value in enumerate([1,5,9]):    \n",
    "        errs[i] = [sum(x) for x in zip(errs[i], error_fct(value, signal))]\n",
    "        #error = error + error_fct(i, signal) \n",
    "        errs[i] = [x/epochs for x in errs[i]]\n",
    "        #errs.append([x/epochs for x in error_fct(i, signal)])\n",
    "    #errs = [sum(x) for x in zip(errs, errs)]\n",
    "    end = time.time()\n",
    "    print(str(j) + \": \" +  str((end-start)*1000))\n",
    "    \n",
    "with open('../output/BLRandnSignalGraphSage2MLP' + str(2**N) + 'Nodes' + '.pickle', 'wb') as output:\n",
    "    pickle.dump(errs, output)\n",
    "    \n",
    "    \n",
    "    \n",
    "xAxis = [2**n for n in range(1,N)]\n",
    "fig = plt.figure()\n",
    "plt.xlabel('Nodes')\n",
    "plt.ylabel('l2error')\n",
    "plt.yscale('log')\n",
    "#txt=\"radius: \" + str((radius)/10)\n",
    "#plt.figtext(0.5, 1, txt, wrap=True, horizontalalignment='center', fontsize=15)\n",
    "plt.plot(xAxis,errs[0],label='0.1')\n",
    "plt.plot(xAxis,errs[1], label='0.5')\n",
    "plt.plot(xAxis,errs[2],label='0.9')\n",
    "plt.legend()\n",
    "fig.savefig('../output/BLRandnSignalGraphSage2MLPl2Error' + str(2**N) + 'Nodes.png', dpi=600)\n",
    "plt.show()\n",
    "\n",
    "slope0, intercept0 = np.polyfit(np.log(xAxis), np.log(errs[0]), 1)\n",
    "slope1, intercept1 = np.polyfit(np.log(xAxis), np.log(errs[1]), 1)\n",
    "slope2, intercept2 = np.polyfit(np.log(xAxis), np.log(errs[2]), 1)\n",
    "\n",
    "\n",
    "\n",
    "xAxis = [2**n for n in range(1,N)]\n",
    "fig = plt.figure()\n",
    "#plt.xlabel('Nodes')\n",
    "plt.ylabel('loglog')\n",
    "#txt=\"radius: \" + str((radius)/10)\n",
    "#plt.figtext(0.5, 1, txt, wrap=True, horizontalalignment='center', fontsize=15)\n",
    "#txt=\"radius: \" + str((radius)/10) + \"  |  slope: \" + str(slope)\n",
    "#plt.figtext(0.5, 1, txt, wrap=True, horizontalalignment='center', fontsize=15)\n",
    "plt.loglog(xAxis[:],errs[0], '--', label = '0.1 | slope: ' + str(slope0))\n",
    "plt.loglog(xAxis[:],errs[1], '--', label = '0.5 | slope: ' + str(slope1))           \n",
    "plt.loglog(xAxis[:],errs[2], '--', label = '0.9 | slope: ' + str(slope2))           \n",
    "plt.legend()\n",
    "\n",
    "fig.savefig('../output/BLRandnSignalGraphSage2MLPLogl2Error' + str(2**N) + 'Nodes.png', dpi=600)\n",
    "plt.show()\n"
   ]
  },
  {
   "cell_type": "code",
   "execution_count": null,
   "id": "e3797e18",
   "metadata": {},
   "outputs": [],
   "source": []
  }
 ],
 "metadata": {
  "kernelspec": {
   "display_name": "Python 3",
   "language": "python",
   "name": "python3"
  },
  "language_info": {
   "codemirror_mode": {
    "name": "ipython",
    "version": 3
   },
   "file_extension": ".py",
   "mimetype": "text/x-python",
   "name": "python",
   "nbconvert_exporter": "python",
   "pygments_lexer": "ipython3",
   "version": "3.8.12"
  }
 },
 "nbformat": 4,
 "nbformat_minor": 5
}
